{
 "cells": [
  {
   "cell_type": "markdown",
   "metadata": {},
   "source": [
    "__S&P 500 GARCH__"
   ]
  },
  {
   "cell_type": "code",
   "execution_count": 28,
   "metadata": {},
   "outputs": [
    {
     "name": "stderr",
     "output_type": "stream",
     "text": [
      "Warning message in SP$spindx[2:3355]/SP$spindx:\n",
      "\"longer object length is not a multiple of shorter object length\""
     ]
    }
   ],
   "source": [
    "require(rugarch)\n",
    "require(zoo)\n",
    "\n",
    "SP <- read.csv(\"S&P_data.csv\", header=T)\n",
    "SP$RET <- log(SP$spindx[2:3355]/SP$spindx)\n",
    "\n",
    "index <- as.Date(as.character(SP$DATE), \"%Y%m%d\")\n",
    "ret <- zoo(SP$RET, as.Date(as.character(SP$DATE), \"%Y%m%d\"))"
   ]
  },
  {
   "cell_type": "code",
   "execution_count": 29,
   "metadata": {},
   "outputs": [],
   "source": [
    "SP <- SP[abs(SP$RET) < 0.12,]"
   ]
  },
  {
   "cell_type": "code",
   "execution_count": 30,
   "metadata": {},
   "outputs": [],
   "source": [
    "spec <- ugarchspec(mean.model = list(armaOrder = c(0,0), include.mean=FALSE))\n",
    "\n",
    "data <- zoo\n",
    "fit <- ugarchfit(data = ret, spec = spec, solver=\"hybrid\")\n",
    "\n",
    "vals <- coef(fit)\n",
    "what <- coef(fit)[1]\n",
    "ahat <- coef(fit)[2]\n",
    "bhat <- coef(fit)[3]"
   ]
  },
  {
   "cell_type": "code",
   "execution_count": 31,
   "metadata": {},
   "outputs": [
    {
     "data": {
      "text/html": [
       "<strong>png:</strong> 2"
      ],
      "text/latex": [
       "\\textbf{png:} 2"
      ],
      "text/markdown": [
       "**png:** 2"
      ],
      "text/plain": [
       "png \n",
       "  2 "
      ]
     },
     "metadata": {},
     "output_type": "display_data"
    }
   ],
   "source": [
    "jpeg(file=\"sp_vol_plot.jpeg\")\n",
    "plot(ret, ylim = c(-.05, .05), main = 'S&P 500', ylab = 'Return', xlab = 'Date')\n",
    "dev.off()"
   ]
  },
  {
   "cell_type": "code",
   "execution_count": 32,
   "metadata": {},
   "outputs": [
    {
     "name": "stdout",
     "output_type": "stream",
     "text": [
      "       omega \n",
      "1.191562e-06 \n",
      "    alpha1 \n",
      "0.08305225 \n",
      "    beta1 \n",
      "0.9094939 \n"
     ]
    }
   ],
   "source": [
    "print(what)\n",
    "print(ahat)\n",
    "print(bhat)"
   ]
  },
  {
   "cell_type": "code",
   "execution_count": 33,
   "metadata": {},
   "outputs": [],
   "source": [
    "SP_GARCH_LogLik = 10782.81"
   ]
  },
  {
   "cell_type": "markdown",
   "metadata": {},
   "source": [
    "__S&P 500 GJR-GARCH__"
   ]
  },
  {
   "cell_type": "code",
   "execution_count": 34,
   "metadata": {},
   "outputs": [],
   "source": [
    "spec2 <- ugarchspec(variance.model=list(model = \"gjrGARCH\", garchOrder=c(1,1,1)), mean.model=list(armaOrder=c(0,0), include.mean=F))\n",
    "fit2 <- ugarchfit(data=ret, spec=spec2, solver=\"hybrid\")\n",
    "\n",
    "vals <- coef(fit2)\n",
    "what <- coef(fit2)[1]\n",
    "ahat <- coef(fit2)[2]\n",
    "bhat <- coef(fit2)[3]\n",
    "ghat <- coef(fit2)[4]"
   ]
  },
  {
   "cell_type": "code",
   "execution_count": 35,
   "metadata": {},
   "outputs": [
    {
     "name": "stdout",
     "output_type": "stream",
     "text": [
      "       omega \n",
      "1.808114e-06 \n",
      "      alpha1 \n",
      "4.053369e-07 \n",
      "  beta1 \n",
      "0.90774 \n"
     ]
    }
   ],
   "source": [
    "print(what)\n",
    "print(ahat)\n",
    "print(bhat)"
   ]
  },
  {
   "cell_type": "code",
   "execution_count": 36,
   "metadata": {},
   "outputs": [],
   "source": [
    "SP_GJR_LogLik = 10850.99"
   ]
  },
  {
   "cell_type": "code",
   "execution_count": 37,
   "metadata": {},
   "outputs": [
    {
     "data": {
      "text/html": [
       "1.00632302711445"
      ],
      "text/latex": [
       "1.00632302711445"
      ],
      "text/markdown": [
       "1.00632302711445"
      ],
      "text/plain": [
       "[1] 1.006323"
      ]
     },
     "metadata": {},
     "output_type": "display_data"
    }
   ],
   "source": [
    "SP_GJR_LogLik/SP_GARCH_LogLik"
   ]
  },
  {
   "cell_type": "markdown",
   "metadata": {},
   "source": [
    "__IBM GARCH__"
   ]
  },
  {
   "cell_type": "code",
   "execution_count": 18,
   "metadata": {},
   "outputs": [],
   "source": [
    "require(rugarch)\n",
    "require(zoo)\n",
    "\n",
    "IBM <- read.csv(\"IBM-1999-2003.csv\", header=T)\n",
    "\n",
    "index <- as.Date(as.character(IBM$date), \"%Y%m%d\")\n",
    "ret <- zoo(IBM$RET, as.Date(as.character(IBM$date), \"%Y%m%d\"))"
   ]
  },
  {
   "cell_type": "code",
   "execution_count": 19,
   "metadata": {},
   "outputs": [],
   "source": [
    "IBM <- IBM[abs(IBM$RET) < 0.12,]"
   ]
  },
  {
   "cell_type": "code",
   "execution_count": 20,
   "metadata": {},
   "outputs": [],
   "source": [
    "index <- as.Date(as.character(IBM$date), \"%Y%m%d\")\n",
    "ret <- zoo(IBM$RET, as.Date(as.character(IBM$date), \"%Y%m%d\"))\n",
    "\n",
    "spec <- ugarchspec(mean.model = list(armaOrder = c(0,0), include.mean=FALSE))\n",
    "\n",
    "data <- zoo\n",
    "fit <- ugarchfit(data = ret, spec = spec, solver=\"hybrid\")\n",
    "\n",
    "vals <- coef(fit)\n",
    "what <- coef(fit)[1]\n",
    "ahat <- coef(fit)[2]\n",
    "bhat <- coef(fit)[3]"
   ]
  },
  {
   "cell_type": "code",
   "execution_count": 21,
   "metadata": {},
   "outputs": [
    {
     "data": {
      "image/png": "[encoded data removed]",
      "text/plain": [
       "Plot with title \"\""
      ]
     },
     "metadata": {},
     "output_type": "display_data"
    }
   ],
   "source": [
    "plot(ret)"
   ]
  },
  {
   "cell_type": "code",
   "execution_count": 22,
   "metadata": {},
   "outputs": [
    {
     "name": "stdout",
     "output_type": "stream",
     "text": [
      "       omega \n",
      "3.329828e-06 \n",
      "    alpha1 \n",
      "0.05654917 \n",
      "    beta1 \n",
      "0.9384645 \n"
     ]
    }
   ],
   "source": [
    "print(what)\n",
    "print(ahat)\n",
    "print(bhat)"
   ]
  },
  {
   "cell_type": "code",
   "execution_count": 23,
   "metadata": {},
   "outputs": [],
   "source": [
    "IBM_GARCH_LogLik = 2983.448"
   ]
  },
  {
   "cell_type": "markdown",
   "metadata": {},
   "source": [
    "__IBM GJR-GARCH__"
   ]
  },
  {
   "cell_type": "code",
   "execution_count": 24,
   "metadata": {},
   "outputs": [],
   "source": [
    "spec2 <- ugarchspec(variance.model=list(model = \"gjrGARCH\", garchOrder=c(1,1,1)), mean.model=list(armaOrder=c(0,0), include.mean=F))\n",
    "fit2 <- ugarchfit(data=ret, spec=spec2, solver=\"hybrid\")\n",
    "\n",
    "vals <- coef(fit2)\n",
    "what <- coef(fit2)[1]\n",
    "ahat <- coef(fit2)[2]\n",
    "bhat <- coef(fit2)[3]\n",
    "ghat <- coef(fit2)[4]"
   ]
  },
  {
   "cell_type": "code",
   "execution_count": 25,
   "metadata": {},
   "outputs": [
    {
     "name": "stdout",
     "output_type": "stream",
     "text": [
      "      omega \n",
      "1.66535e-06 \n",
      "     alpha1 \n",
      "0.005284374 \n",
      "    beta1 \n",
      "0.9582324 \n",
      "    gamma1 \n",
      "0.07096481 \n"
     ]
    }
   ],
   "source": [
    "print(what)\n",
    "print(ahat)\n",
    "print(bhat)\n",
    "print(ghat)"
   ]
  },
  {
   "cell_type": "code",
   "execution_count": 26,
   "metadata": {},
   "outputs": [],
   "source": [
    "IBM_GJR_LogLik = 2998.049"
   ]
  },
  {
   "cell_type": "code",
   "execution_count": 27,
   "metadata": {},
   "outputs": [
    {
     "data": {
      "text/html": [
       "1.00489400183948"
      ],
      "text/latex": [
       "1.00489400183948"
      ],
      "text/markdown": [
       "1.00489400183948"
      ],
      "text/plain": [
       "[1] 1.004894"
      ]
     },
     "metadata": {},
     "output_type": "display_data"
    }
   ],
   "source": [
    "IBM_GJR_LogLik/IBM_GARCH_LogLik"
   ]
  },
  {
   "cell_type": "code",
   "execution_count": null,
   "metadata": {},
   "outputs": [],
   "source": []
  }
 ],
 "metadata": {
  "kernelspec": {
   "display_name": "R",
   "language": "R",
   "name": "ir"
  },
  "language_info": {
   "codemirror_mode": "r",
   "file_extension": ".r",
   "mimetype": "text/x-r-source",
   "name": "R",
   "pygments_lexer": "r",
   "version": "3.5.3"
  }
 },
 "nbformat": 4,
 "nbformat_minor": 2
}
